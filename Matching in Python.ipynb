{
 "cells": [
  {
   "cell_type": "code",
   "execution_count": 12,
   "metadata": {},
   "outputs": [],
   "source": [
    "import sys\n",
    "import pandas as pd\n",
    "import numpy as np\n",
    "from pymatch.Matcher import Matcher\n",
    "from IPython.display import Latex"
   ]
  },
  {
   "cell_type": "markdown",
   "metadata": {},
   "source": [
    "# Table of Content\n",
    "1. **Intuition behind what we do**\n",
    "2. **Installation and technical aspects**\n",
    "3. **Matching itself**\n",
    "4. **Next steps**"
   ]
  },
  {
   "cell_type": "markdown",
   "metadata": {},
   "source": [
    "## 1. Intuition behind what we do"
   ]
  },
  {
   "cell_type": "markdown",
   "metadata": {},
   "source": [
    "This is one of the few examples that we have, and it solely focuses on the procedure of matching. We expect to post other workbooks soon.  \n",
    "\n",
    "Let's refresh why you want to do matching at all.  \n",
    "\n",
    "\n",
    "Imagine that you have nonrandomized data (i.e. you didn't run a randomized control trial, a.k.a. an A/B test, to collect it; most likely, it's just a Zeta data pool). The problem here is that you can't easily compare two groups from this data to each other due to the existing effect of confounding variables. One of the tricky portions here is that these confounding variables might be in your dataset and/or they might be outside of the dataset. In the latter case, there is not much you can do (actually, you can do at least one thing that we'll cover in the next workbook). In the former case, matching can alleviate some of your pains.  \n",
    "\n",
    "If you have two groups you want to compare to each other (*one group had sessions and made purchases in the last seven days, another group had sessions and didn't make purchases in the last seven days*), you need to take users from one group and find a \"twin\" in another group. Twins are similar, and there has to be some measure of similarity. One of the most common (and intuitive) scores is a propensity score.  \n",
    "Propensity scores are calculated using linear probability, logit or probit models. Differences among these three are subtle (*a logistic regression uses a logit link function, a probit regression uses an inverse normal link function, your plain vanilla linear probability model doesn't have a link function at all*) and are not really important for this discussion. Let's just agree to use a logit approach because below we will be comparing an binary treatment.  \n",
    "The concept of the propensity score is not that hard to grasp. It is the conditional probability of being assigned to a particular treatment given a vector of observed covariates."
   ]
  },
  {
   "cell_type": "markdown",
   "metadata": {},
   "source": [
    "\\begin{align}\n",
    "e(x_i) = Pr(z_i = 1|x_i)\n",
    "\\end{align}"
   ]
  },
  {
   "cell_type": "markdown",
   "metadata": {},
   "source": [
    "and"
   ]
  },
  {
   "cell_type": "markdown",
   "metadata": {},
   "source": [
    "\\begin{align}\n",
    "Pr(z_1,...z_n|x_1,...x_n) = \\sum_{i=1}^{n} e^{z_i} * (1-e(x_i)^{1-z_i}\n",
    "\\end{align}"
   ]
  },
  {
   "cell_type": "markdown",
   "metadata": {},
   "source": [
    "where"
   ]
  },
  {
   "cell_type": "markdown",
   "metadata": {},
   "source": [
    "\\begin{align}\n",
    "z_i = 1 \\textrm{ for treatment}\\\\\n",
    "z_i = 0 \\textrm{ for control}\\\\\n",
    "x_i \\textrm{ is  the  vector  of  observed  covariates  for  the  } i_{th} \\textrm{ subject}\n",
    "\\end{align}"
   ]
  },
  {
   "cell_type": "markdown",
   "metadata": {},
   "source": [
    "If it looks to you as a likelihood of a binomial distribution, you're absolutely right."
   ]
  },
  {
   "cell_type": "markdown",
   "metadata": {},
   "source": [
    "If you calculated the propensity score in an A/B test, comparing two groups, then the score for each participant would be 0.5. This is because in a randomized test, each observation is assigned to a group with equal probabilities.  \n",
    "So the the steps that any matching program is doing are:\n",
    "1. calculate the probabilities of being assigned to a group. Let's say, you encode users without purchases as zero in a column \"Test_Control\" and users with purchases as one. It becomes your dependent variable that you want to predict using other columns as features. Sounds like a normal ML task, right?\n",
    "2. separate this big datasets into two groups: one group was exposed to your treatment (in the example below, we're exploring whether making a saved search impacts your future purchases), another was not\n",
    "3. take a user from one group and find a user from another group that has a very similar propensity score (calculated in step 1 above). How similar? It's controlled by the threshold, and you can alter it"
   ]
  },
  {
   "cell_type": "markdown",
   "metadata": {},
   "source": [
    "Last but not least: **don't forget what you're trying to achieve.** I think that in our domain we're usually going after a marginal contribution (or impact) of some feature on some metric (GMB or one of its proxies). Matching on its own doesn't do this; all it does is prepare your (new) dataset. It means that after matching you'll need to take some other steps. What are these steps? We cannot know in advance. Usually many practitioners calculate Average Treatment Effect (ATE) or Average Treatment Effect on the Treated (ATT). Most of the tools allow to do it immediately after matching. However, it's not what we (probably) want. That said, we can put the procedure of matching somewhere in the middle of your workflow:  \n",
    "Understanding of the problem --> Data Collection --> Reasoning about matching --> **Procedure of matching** --> Further analysis of the matched dataset.  \n",
    "Maybe we can use an anology from machine learning: when you use some distance-based algorithm, you center (sometimes it's called \"normalize\") your numerical variables around a mean of zero with standard deviation of one (z-score). Does it tell you anything about the underlying problem? No. Is it required if you want to achieve better performance? Yes.  \n",
    "That being said, this workbook merely describes only one step (from A to Z, though) and doesn't provide you a way to arrive to the final answer."
   ]
  },
  {
   "cell_type": "markdown",
   "metadata": {},
   "source": [
    "## Installation and technical aspects"
   ]
  },
  {
   "cell_type": "markdown",
   "metadata": {},
   "source": [
    "The truth is that R has a more developed causal inference ecosystem. They're easy to use and can do anything you want in will return results in a format that you want. However, it this tutorial we decided to use exclusively Python because it's more aligned with the company's practices and preferences of most employees. Tools in Python are either basic and not supported by their creators, or super sophisticated and complex (you really need to know what you want to achieve and why you do it in a certain way). However, we found one package that does its job well, is relatively straightforward (and you can even dig into its code if you're interested in the topic and understand what it does exactly).  \n",
    "The package is called **Pymatch.**  \n",
    "Usually a traditional `pip install pymatch` will do.  \n",
    "However, sometimes it won't install. Then you need another version: `pip install git+https://github.com/mc51/pymatch.git`.  \n",
    "If you're in Krylov or for some other reason don't have access to the terminal, you can potentially install directly from inside your GUI:  \n",
    "`!{sys.executable} -m pip install pymatch`  \n",
    "or  \n",
    "`!{sys.executable} -m pip install git+https://github.com/mc51/pymatch.git` respectively (Don't forget to `import sys` first).  \n",
    "\n",
    "Finally, it sometimes fails to estimate the effect of matching on continious variables by throwing an error instead. We've found a way to correct it.  \n",
    "1. Find where your Pymatch is installed by running `pip show pymatch` (or `!{sys.executable} -m pip show pymatch`)\n",
    "2. Go there and find the folder with Pymatch. It will contain a few files but you need *Matcher.py*\n",
    "3. Open it in your GUI of choice and search for `if uf.is_continuous(col, self.X) and col not in self.exclude`. It will be in the function `compare_continious`\n",
    "4. You need to edit a few lines so that a chunk of code around looks like this:"
   ]
  },
  {
   "cell_type": "code",
   "execution_count": null,
   "metadata": {},
   "outputs": [],
   "source": [
    " test_results = []\n",
    "    for col in self.matched_data.columns:\n",
    "        is_continious = (col in self.X.columns) or (\"Q('{}')\".format(col) in self.X.columns)  # TYPE THIS LINE MANUALLY\n",
    "        if is_continious and (not(col in self.exclude)):  # MAKE SURE EVERYTHING LOOKS LIKE HERE\n",
    "        # if uf.is_continuous(col, self.X) and col not in self.exclude:  # COMMENT OR REMOVE THIS LINE\n",
    "            # organize data\n",
    "            trb, cob = self.test[col], self.control[col]\n",
    "            tra = self.matched_data[self.matched_data[self.yvar]==True][col]\n",
    "            coa = self.matched_data[self.matched_data[self.yvar]==False][col]\n",
    "            xtb, xcb = ECDF(trb), ECDF(cob)\n",
    "            xta, xca = ECDF(tra),ECDF(coa)"
   ]
  },
  {
   "cell_type": "markdown",
   "metadata": {},
   "source": [
    "5. Save the file, go back to your GUI and restart the kernel."
   ]
  },
  {
   "cell_type": "markdown",
   "metadata": {},
   "source": [
    "## 3. Matching itself"
   ]
  },
  {
   "cell_type": "markdown",
   "metadata": {},
   "source": [
    "We will use the same dataset as we used in the Analytics Talk presentation."
   ]
  },
  {
   "cell_type": "code",
   "execution_count": 13,
   "metadata": {},
   "outputs": [],
   "source": [
    "data = pd.read_csv('path to file')  # C:/Users/mkareev/Desktop/Engagement Actions/9_14_events_bin.csv"
   ]
  },
  {
   "cell_type": "markdown",
   "metadata": {},
   "source": [
    "Columns' name should be self-explanatory:"
   ]
  },
  {
   "cell_type": "code",
   "execution_count": 14,
   "metadata": {},
   "outputs": [
    {
     "data": {
      "text/plain": [
       "['trans_cnt_p12m',\n",
       " 'trans_day_cnt_p12m',\n",
       " 'bought_item_cnt_p12m',\n",
       " 'gmb_usd_amt_p12m',\n",
       " 'days_since_last_trans',\n",
       " 'tot_sess_cnt_l12m',\n",
       " 'tot_sess_days_l12m',\n",
       " 'tot_session_length_l12m',\n",
       " 'apps_sess_share_l12m',\n",
       " 'mweb_sess_share_l12m',\n",
       " 'dweb_sess_share_l12m',\n",
       " 'organic_sess_share_l12m',\n",
       " 'free_sess_share_l12m',\n",
       " 'paid_sess_share_l12m',\n",
       " 'gmb_usd_amt_n3m',\n",
       " 'num_ATC_events',\n",
       " 'num_WATCH_events',\n",
       " 'num_OFFER_events',\n",
       " 'num_ASQ_events',\n",
       " 'num_BID_events',\n",
       " 'num_BIN_events',\n",
       " 'gmb_usd_amt_n3m_binary',\n",
       " 'num_ATC_events_binary',\n",
       " 'num_WATCH_events_binary',\n",
       " 'num_OFFER_events_binary',\n",
       " 'num_ASQ_events_binary',\n",
       " 'num_BID_events_binary',\n",
       " 'num_BIN_events_binary']"
      ]
     },
     "execution_count": 14,
     "metadata": {},
     "output_type": "execute_result"
    }
   ],
   "source": [
    "data.columns.to_list()"
   ]
  },
  {
   "cell_type": "markdown",
   "metadata": {},
   "source": [
    "We're interested in how various BBOWAC events on day 0 affect future 90-day GMB. This is called a treatment.    \n",
    "BBOWAC events live in respective columns *num_name_of_event_events*.  \n",
    "We've also encoded them as binary variables (because a binary use case is easier to understand and carry out).  \n",
    "The outcome variable is *gmb_usd_amt_n3m* (and *gmb_usd_amt_n3m_binary* respectively)."
   ]
  },
  {
   "cell_type": "markdown",
   "metadata": {},
   "source": [
    "We initialize the `Matcher` object."
   ]
  },
  {
   "cell_type": "code",
   "execution_count": 15,
   "metadata": {},
   "outputs": [],
   "source": [
    "from pymatch.Matcher import Matcher"
   ]
  },
  {
   "cell_type": "markdown",
   "metadata": {},
   "source": [
    "Then you need to separate your data into test and control "
   ]
  },
  {
   "cell_type": "code",
   "execution_count": 16,
   "metadata": {},
   "outputs": [],
   "source": [
    "data_short = data\n",
    "test = data_short[data_short.gmb_usd_amt_n3m_binary == 1]\n",
    "control = data_short[data_short.gmb_usd_amt_n3m_binary == 0]"
   ]
  },
  {
   "cell_type": "markdown",
   "metadata": {},
   "source": [
    "Into your object, you pass `test`, `control` datasets, the outcome variable and an optional parameter `exclude` using which you can exclude features that you don't want to use in matching. Usually it's your judgement call regarding what variables to exclude made based on the business understanding (and maybe correlation analysis)."
   ]
  },
  {
   "cell_type": "code",
   "execution_count": 18,
   "metadata": {},
   "outputs": [
    {
     "name": "stdout",
     "output_type": "stream",
     "text": [
      "Formula:\n",
      "gmb_usd_amt_n3m_binary ~ bought_item_cnt_p12m+days_since_last_trans+gmb_usd_amt_p12m+num_ASQ_events+num_ATC_events+num_BID_events+num_BIN_events+num_OFFER_events+num_WATCH_events+trans_cnt_p12m+trans_day_cnt_p12m\n",
      "n majority: 77059\n",
      "n minority: 16637\n"
     ]
    }
   ],
   "source": [
    "m = Matcher(test, control, yvar = \"gmb_usd_amt_n3m_binary\", exclude = ['tot_sess_cnt_l12m', 'tot_sess_days_l12m', 'tot_session_length_l12m', 'apps_sess_share_l12m',\n",
    " 'mweb_sess_share_l12m', 'dweb_sess_share_l12m', 'organic_sess_share_l12m', 'free_sess_share_l12m', 'paid_sess_share_l12m', 'gmb_usd_amt_n3m','num_ATC_events_binary', 'num_WATCH_events_binary', 'num_OFFER_events_binary',\n",
    " 'num_ASQ_events_binary', 'num_BID_events_binary', 'num_BIN_events_binary'])"
   ]
  },
  {
   "cell_type": "markdown",
   "metadata": {},
   "source": [
    "We see class imbalance: much more users with purchases than without. You can double check the results by running:"
   ]
  },
  {
   "cell_type": "code",
   "execution_count": null,
   "metadata": {},
   "outputs": [],
   "source": [
    "len(data_short[data_short.gmb_usd_amt_n3m_binary == 1])  # 77059\n",
    "len(data_short[data_short.gmb_usd_amt_n3m_binary == 0])   # 16637"
   ]
  },
  {
   "cell_type": "markdown",
   "metadata": {},
   "source": [
    "It means that not every user with a purchase will find a twin among users without purchases. Unless you decide to match with replacement. This way, users from a smaller datasets will be used more than once. Another school of thought is to use a smaller dataset (no purchases in our case) as a base. As always, there is no agreement in the causal inference community on what is better. We will sample from a larger group below."
   ]
  },
  {
   "cell_type": "code",
   "execution_count": 21,
   "metadata": {},
   "outputs": [
    {
     "name": "stdout",
     "output_type": "stream",
     "text": [
      "Static column dropped: gmb_usd_amt_n3m100"
     ]
    },
    {
     "name": "stderr",
     "output_type": "stream",
     "text": [
      "C:\\Users\\mkareev\\Anaconda3\\lib\\site-packages\\pandas\\core\\frame.py:3990: SettingWithCopyWarning: \n",
      "A value is trying to be set on a copy of a slice from a DataFrame\n",
      "\n",
      "See the caveats in the documentation: https://pandas.pydata.org/pandas-docs/stable/user_guide/indexing.html#returning-a-view-versus-a-copy\n",
      "  return super().drop(\n",
      "C:\\Users\\mkareev\\Anaconda3\\lib\\site-packages\\statsmodels\\genmod\\families\\family.py:894: RuntimeWarning: invalid value encountered in true_divide\n",
      "  n_endog_mu = self._clean((1. - endog) / (1. - mu))\n",
      "C:\\Users\\mkareev\\Anaconda3\\lib\\site-packages\\statsmodels\\genmod\\families\\family.py:894: RuntimeWarning: divide by zero encountered in true_divide\n",
      "  n_endog_mu = self._clean((1. - endog) / (1. - mu))\n",
      "C:\\Users\\mkareev\\Anaconda3\\lib\\site-packages\\statsmodels\\genmod\\families\\links.py:188: RuntimeWarning: overflow encountered in exp\n",
      "  t = np.exp(-z)\n",
      "C:\\Users\\mkareev\\Anaconda3\\lib\\site-packages\\statsmodels\\genmod\\families\\family.py:893: RuntimeWarning: divide by zero encountered in true_divide\n",
      "  endog_mu = self._clean(endog / mu)\n",
      "C:\\Users\\mkareev\\Anaconda3\\lib\\site-packages\\statsmodels\\genmod\\families\\family.py:893: RuntimeWarning: invalid value encountered in true_divide\n",
      "  endog_mu = self._clean(endog / mu)\n"
     ]
    },
    {
     "name": "stdout",
     "output_type": "stream",
     "text": [
      "Static column dropped: gmb_usd_amt_n3m0\\100\n",
      "Average Accuracy: 74.02%\n"
     ]
    }
   ],
   "source": [
    "np.random.seed(22)\n",
    "m.fit_scores(balance = True, nmodels = 100)"
   ]
  },
  {
   "cell_type": "markdown",
   "metadata": {},
   "source": [
    "The accuracy above 50% suggests that separability between test and control sets indeed exists."
   ]
  },
  {
   "cell_type": "code",
   "execution_count": 23,
   "metadata": {},
   "outputs": [],
   "source": [
    "m.predict_scores()"
   ]
  },
  {
   "cell_type": "code",
   "execution_count": 24,
   "metadata": {},
   "outputs": [
    {
     "data": {
      "image/png": "[encoded data removed]",
      "text/plain": [
       "<Figure size 720x360 with 1 Axes>"
      ]
     },
     "metadata": {
      "needs_background": "light"
     },
     "output_type": "display_data"
    }
   ],
   "source": [
    "m.plot_scores()"
   ]
  },
  {
   "cell_type": "code",
   "execution_count": null,
   "metadata": {},
   "outputs": [],
   "source": [
    "# matching w/ replacement. We can argue whether it depends on a problem (a business scenario) but I don't have much to say here yet\n",
    "m.match(method = \"min\", nmatches = 1, threshold = 0.0001)  # min searches for the closest match, random takes the first match as long as its under the threshold\n",
    "m.record_frequency()"
   ]
  },
  {
   "cell_type": "code",
   "execution_count": null,
   "metadata": {},
   "outputs": [],
   "source": [
    "m.record_frequency()['n_records']"
   ]
  },
  {
   "cell_type": "code",
   "execution_count": null,
   "metadata": {},
   "outputs": [],
   "source": [
    "m.matched_data.sort_values(\"match_id\").head(6)"
   ]
  },
  {
   "cell_type": "code",
   "execution_count": null,
   "metadata": {},
   "outputs": [],
   "source": [
    "# here is a twin pair\n",
    "m.matched_data[(m.matched_data['match_id'] == 10133) & (m.matched_data['gmb_usd_amt_n3m_binary'] == 1)]\n",
    "m.matched_data[(m.matched_data['match_id'] == 10133) & (m.matched_data['gmb_usd_amt_n3m_binary'] == 0)]"
   ]
  },
  {
   "cell_type": "code",
   "execution_count": null,
   "metadata": {},
   "outputs": [],
   "source": []
  }
 ],
 "metadata": {
  "kernelspec": {
   "display_name": "Python 3",
   "language": "python",
   "name": "python3"
  },
  "language_info": {
   "codemirror_mode": {
    "name": "ipython",
    "version": 3
   },
   "file_extension": ".py",
   "mimetype": "text/x-python",
   "name": "python",
   "nbconvert_exporter": "python",
   "pygments_lexer": "ipython3",
   "version": "3.8.3"
  }
 },
 "nbformat": 4,
 "nbformat_minor": 4
}
